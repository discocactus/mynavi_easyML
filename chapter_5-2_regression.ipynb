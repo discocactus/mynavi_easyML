{
 "cells": [
  {
   "cell_type": "code",
   "execution_count": null,
   "metadata": {
    "ExecuteTime": {
     "end_time": "2018-04-08T01:21:11.843379Z",
     "start_time": "2018-04-08T01:21:11.452409Z"
    }
   },
   "outputs": [],
   "source": [
    "import numpy as np\n",
    "import matplotlib.pyplot as plt\n",
    "\n",
    "%matplotlib inline"
   ]
  },
  {
   "cell_type": "markdown",
   "metadata": {},
   "source": [
    "# 学習データの確認"
   ]
  },
  {
   "cell_type": "code",
   "execution_count": null,
   "metadata": {
    "ExecuteTime": {
     "end_time": "2018-04-08T01:24:07.265769Z",
     "start_time": "2018-04-08T01:24:07.234929Z"
    }
   },
   "outputs": [],
   "source": [
    "# 学習データを読み込む\n",
    "# x: 広告費用\n",
    "# y: クリック数\n",
    "train = np.loadtxt('click.csv', delimiter=',', skiprows=1)\n",
    "train_x = train[:,0]\n",
    "train_y = train[:,1]"
   ]
  },
  {
   "cell_type": "code",
   "execution_count": null,
   "metadata": {
    "ExecuteTime": {
     "end_time": "2018-04-08T01:24:44.382368Z",
     "start_time": "2018-04-08T01:24:44.132764Z"
    }
   },
   "outputs": [],
   "source": [
    "# プロット\n",
    "plt.plot(train_x, train_y, 'o')\n",
    "plt.show()"
   ]
  },
  {
   "cell_type": "code",
   "execution_count": null,
   "metadata": {
    "ExecuteTime": {
     "end_time": "2018-04-08T01:45:01.111378Z",
     "start_time": "2018-04-08T01:45:01.095886Z"
    }
   },
   "outputs": [],
   "source": [
    "# 標準化\n",
    "# 標準偏差に対してどのくらいの値か\n",
    "mu = train_x.mean()\n",
    "sigma = train_x.std()\n",
    "def standardize(x):\n",
    "    return (x - mu) / sigma\n",
    "\n",
    "train_z = standardize(train_x)"
   ]
  },
  {
   "cell_type": "code",
   "execution_count": null,
   "metadata": {
    "ExecuteTime": {
     "end_time": "2018-04-08T01:54:29.981040Z",
     "start_time": "2018-04-08T01:54:29.871629Z"
    }
   },
   "outputs": [],
   "source": [
    "# 標準化後プロット\n",
    "plt.plot(train_z, train_y, 'o')\n",
    "plt.show()"
   ]
  },
  {
   "cell_type": "markdown",
   "metadata": {},
   "source": [
    "# 1次関数として実装"
   ]
  },
  {
   "cell_type": "code",
   "execution_count": null,
   "metadata": {
    "ExecuteTime": {
     "end_time": "2018-04-08T01:38:37.006904Z",
     "start_time": "2018-04-08T01:38:36.976099Z"
    }
   },
   "outputs": [],
   "source": [
    "# 予測関数\n",
    "# 切片と傾き\n",
    "def f(x):\n",
    "    return theta0 + theta1 * x"
   ]
  },
  {
   "cell_type": "code",
   "execution_count": null,
   "metadata": {
    "ExecuteTime": {
     "end_time": "2018-04-08T01:39:35.517197Z",
     "start_time": "2018-04-08T01:39:35.501570Z"
    }
   },
   "outputs": [],
   "source": [
    "# 目的関数\n",
    "# 学習データと予測値の誤差の二乗の総和\n",
    "# 定数 0.5 は結果の式を簡単にするために付けられた定数\n",
    "def E(x, y):\n",
    "    return 0.5 * np.sum((y - f(x)) ** 2)"
   ]
  },
  {
   "cell_type": "code",
   "execution_count": null,
   "metadata": {
    "ExecuteTime": {
     "end_time": "2018-04-08T04:10:17.348914Z",
     "start_time": "2018-04-08T04:10:17.333287Z"
    }
   },
   "outputs": [],
   "source": [
    "theta0 - ETA * np.sum((f(train_z) - train_y))"
   ]
  },
  {
   "cell_type": "code",
   "execution_count": null,
   "metadata": {
    "ExecuteTime": {
     "end_time": "2018-04-08T04:10:38.432567Z",
     "start_time": "2018-04-08T04:10:38.416883Z"
    }
   },
   "outputs": [],
   "source": [
    "theta1 - ETA * np.sum((f(train_z) - train_y) * train_z)"
   ]
  },
  {
   "cell_type": "code",
   "execution_count": null,
   "metadata": {
    "ExecuteTime": {
     "end_time": "2018-04-08T04:12:52.725680Z",
     "start_time": "2018-04-08T04:12:52.710502Z"
    }
   },
   "outputs": [],
   "source": [
    "E(train_z, train_y)"
   ]
  },
  {
   "cell_type": "code",
   "execution_count": null,
   "metadata": {
    "ExecuteTime": {
     "end_time": "2018-04-08T05:45:53.867182Z",
     "start_time": "2018-04-08T05:45:53.789047Z"
    }
   },
   "outputs": [],
   "source": [
    "# パラメーターを初期化\n",
    "# 0〜1の一様乱数\n",
    "theta0 = np.random.rand()\n",
    "theta1 = np.random.rand()\n",
    "\n",
    "# 学習率\n",
    "ETA = 1e-3\n",
    "\n",
    "# 誤差の差分\n",
    "diff = 1\n",
    "\n",
    "# 更新回数\n",
    "count = 0\n",
    "\n",
    "# 誤差の初期値\n",
    "error = E(train_z, train_y)\n",
    "\n",
    "# 誤差の差分が計算打ち切り値0.01以下になるまでパラメータ更新を繰り返す\n",
    "while diff > 1e-2:\n",
    "    # 各パラメーターの更新は同時に行わなければいけないので、更新結果を一時変数に保存\n",
    "    # 下の順番で計算する場合だと、theta1の計算時には直前に計算したtheta0ではなく、1つ前のtheta0を使う\n",
    "    # 1つ前のtheta0 - 学習率 * 目的関数をtheta0で偏微分した結果(合成関数を使って求める)の総和\n",
    "    tmp0 = theta0 - ETA * np.sum((f(train_z) - train_y))\n",
    "    # 1つ前のtheta1 - 学習率 * 目的関数をtheta1で偏微分した結果(合成関数を使って求める)の総和\n",
    "    tmp1 = theta1 - ETA * np.sum((f(train_z) - train_y) * train_z)\n",
    "    # パラメータを更新\n",
    "    theta0 = tmp0\n",
    "    theta1 = tmp1\n",
    "    # 前回の誤差との差分を計算\n",
    "    current_error = E(train_z, train_y)\n",
    "    diff = error - current_error\n",
    "    error = current_error\n",
    "    # ログの出力\n",
    "    count += 1\n",
    "    log = '{}回目: theta0 = {:.3f}, theta1 = {:.3f}, 差分 = {:.4f}'\n",
    "    print(log.format(count, theta0, theta1, diff))"
   ]
  },
  {
   "cell_type": "code",
   "execution_count": null,
   "metadata": {
    "ExecuteTime": {
     "end_time": "2018-04-08T05:47:58.915302Z",
     "start_time": "2018-04-08T05:47:58.821543Z"
    },
    "scrolled": true
   },
   "outputs": [],
   "source": [
    "# 結果をプロット\n",
    "x = np.linspace(-3, 3, 100)\n",
    "\n",
    "plt.plot(train_z, train_y, 'o')\n",
    "plt.plot(x, f(x))\n",
    "plt.show()"
   ]
  },
  {
   "cell_type": "markdown",
   "metadata": {},
   "source": [
    "# 多項式回帰の実装"
   ]
  },
  {
   "cell_type": "code",
   "execution_count": null,
   "metadata": {
    "ExecuteTime": {
     "end_time": "2018-04-08T06:00:50.741324Z",
     "start_time": "2018-04-08T06:00:50.725700Z"
    }
   },
   "outputs": [],
   "source": [
    "# 学習データの行列を作る関数\n",
    "def to_matrix(x):\n",
    "    return np.vstack([np.ones(x.shape[0]), x, x ** 2]).T"
   ]
  },
  {
   "cell_type": "code",
   "execution_count": null,
   "metadata": {
    "ExecuteTime": {
     "end_time": "2018-04-08T06:01:06.336729Z",
     "start_time": "2018-04-08T06:01:06.321125Z"
    }
   },
   "outputs": [],
   "source": [
    "# 学習データの行列を作る\n",
    "X = to_matrix(train_z)"
   ]
  },
  {
   "cell_type": "code",
   "execution_count": null,
   "metadata": {
    "ExecuteTime": {
     "end_time": "2018-04-08T06:09:35.454038Z",
     "start_time": "2018-04-08T06:09:35.438864Z"
    }
   },
   "outputs": [],
   "source": [
    "# 予測関数\n",
    "def f(x):\n",
    "    # 学習データの行列xとパラメータのベクトルthetaの積を求める\n",
    "    return np.dot(x, theta)"
   ]
  },
  {
   "cell_type": "code",
   "execution_count": null,
   "metadata": {
    "ExecuteTime": {
     "end_time": "2018-04-08T06:36:29.365346Z",
     "start_time": "2018-04-08T06:36:29.177839Z"
    },
    "scrolled": true
   },
   "outputs": [],
   "source": [
    "# パラメータを初期化\n",
    "theta = np.random.rand(3)\n",
    "\n",
    "# 誤差の差分\n",
    "diff = 1\n",
    "\n",
    "# 更新回数\n",
    "count = 0\n",
    "\n",
    "# 学習を繰り返す\n",
    "error = E(X, train_y)\n",
    "while diff > 1e-2:\n",
    "    # パラメータを更新\n",
    "    theta = theta - ETA * np.dot(f(X) - train_y, X)\n",
    "    # 前回の誤差との差分を計算\n",
    "    current_error = E(X, train_y)\n",
    "    diff = error - current_error\n",
    "    error = current_error\n",
    "    # ログの出力\n",
    "    count += 1\n",
    "    log = '{}回目: theta = {}, 差分 = {:.4f}'\n",
    "    print(log.format(count, theta, diff))"
   ]
  },
  {
   "cell_type": "code",
   "execution_count": null,
   "metadata": {
    "ExecuteTime": {
     "end_time": "2018-04-08T06:36:49.713972Z",
     "start_time": "2018-04-08T06:36:49.604600Z"
    }
   },
   "outputs": [],
   "source": [
    "# 結果をプロット\n",
    "x = np.linspace(-3, 3, 100)\n",
    "\n",
    "plt.plot(train_z, train_y, 'o')\n",
    "plt.plot(x, f(to_matrix(x)))\n",
    "plt.show()"
   ]
  },
  {
   "cell_type": "code",
   "execution_count": null,
   "metadata": {
    "ExecuteTime": {
     "end_time": "2018-04-08T06:27:59.666719Z",
     "start_time": "2018-04-08T06:27:59.635732Z"
    }
   },
   "outputs": [],
   "source": [
    "# 平均二乗誤差\n",
    "def MSE(x, y):\n",
    "    return (1 / x.shape[0]) * np.sum((y - f(x)) ** 2)"
   ]
  },
  {
   "cell_type": "code",
   "execution_count": null,
   "metadata": {
    "ExecuteTime": {
     "end_time": "2018-04-08T06:37:59.682872Z",
     "start_time": "2018-04-08T06:37:59.479774Z"
    }
   },
   "outputs": [],
   "source": [
    "# 計算打ち切りの条件を平均二乗誤差で計算\n",
    "\n",
    "# パラメータを初期化\n",
    "theta = np.random.rand(3)\n",
    "\n",
    "# 平均二乗誤差の履歴\n",
    "errors = []\n",
    "\n",
    "# 誤差の差分\n",
    "diff = 1\n",
    "\n",
    "# 更新回数\n",
    "count = 0\n",
    "\n",
    "# 学習を繰り返す\n",
    "errors.append(MSE(X, train_y))\n",
    "while diff > 1e-2:\n",
    "    # パラメータを更新\n",
    "    theta = theta - ETA * np.dot(f(X) - train_y, X)\n",
    "    # 前回の誤差との差分を計算\n",
    "    errors.append(MSE(X, train_y))\n",
    "    diff = errors[-2] - errors[-1]\n",
    "    # ログの出力\n",
    "    count += 1\n",
    "    log = '{}回目: theta = {}, 差分 = {:.4f}'\n",
    "    print(log.format(count, theta, diff))"
   ]
  },
  {
   "cell_type": "code",
   "execution_count": null,
   "metadata": {
    "ExecuteTime": {
     "end_time": "2018-04-08T06:38:17.797414Z",
     "start_time": "2018-04-08T06:38:17.688444Z"
    }
   },
   "outputs": [],
   "source": [
    "# 結果をプロット\n",
    "x = np.linspace(-3, 3, 100)\n",
    "\n",
    "plt.plot(train_z, train_y, 'o')\n",
    "plt.plot(x, f(to_matrix(x)))\n",
    "plt.show()"
   ]
  },
  {
   "cell_type": "code",
   "execution_count": null,
   "metadata": {
    "ExecuteTime": {
     "end_time": "2018-04-08T06:39:33.699816Z",
     "start_time": "2018-04-08T06:39:33.590838Z"
    }
   },
   "outputs": [],
   "source": [
    "# 誤差をプロット\n",
    "x = np.arange(len(errors))\n",
    "\n",
    "plt.plot(x, errors)\n",
    "plt.show()"
   ]
  },
  {
   "cell_type": "markdown",
   "metadata": {},
   "source": [
    "# 確率的勾配降下法の実装"
   ]
  },
  {
   "cell_type": "code",
   "execution_count": null,
   "metadata": {
    "ExecuteTime": {
     "end_time": "2018-04-08T06:49:59.560660Z",
     "start_time": "2018-04-08T06:49:59.326221Z"
    }
   },
   "outputs": [],
   "source": [
    "# パラメータを初期化\n",
    "theta = np.random.rand(3)\n",
    "\n",
    "# 平均二乗誤差の履歴\n",
    "errors = []\n",
    "\n",
    "# 誤差の差分\n",
    "diff = 1\n",
    "\n",
    "# 更新回数\n",
    "count = 0\n",
    "\n",
    "# 学習を繰り返す\n",
    "errors.append(MSE(X, train_y))\n",
    "while diff > 1e-2:\n",
    "    # 学習データを並べ替えるためにランダムな順列を用意する\n",
    "    p = np.random.permutation(X.shape[0])\n",
    "    #　学習データをランダムに取り出して確率的勾配降下法でパラメータ更新\n",
    "    for x, y in zip(X[p,:], train_y[p]):\n",
    "        theta = theta - ETA * (f(x) - y) * x\n",
    "    # 前回の誤差との差分を計算\n",
    "    errors.append(MSE(X, train_y))\n",
    "    diff = errors[-2] - errors[-1]\n",
    "    # ログの出力\n",
    "    count += 1\n",
    "    log = '{}回目: theta = {}, 差分 = {:.4f}'\n",
    "    print(log.format(count, theta, diff))"
   ]
  },
  {
   "cell_type": "code",
   "execution_count": null,
   "metadata": {
    "ExecuteTime": {
     "end_time": "2018-04-08T06:50:49.881920Z",
     "start_time": "2018-04-08T06:50:49.756867Z"
    }
   },
   "outputs": [],
   "source": [
    "# 結果をプロット\n",
    "x = np.linspace(-3, 3, 100)\n",
    "\n",
    "plt.plot(train_z, train_y, 'o')\n",
    "plt.plot(x, f(to_matrix(x)))\n",
    "plt.show()"
   ]
  },
  {
   "cell_type": "code",
   "execution_count": null,
   "metadata": {
    "ExecuteTime": {
     "end_time": "2018-04-08T06:51:07.039972Z",
     "start_time": "2018-04-08T06:51:06.914923Z"
    }
   },
   "outputs": [],
   "source": [
    "# 誤差をプロット\n",
    "x = np.arange(len(errors))\n",
    "\n",
    "plt.plot(x, errors)\n",
    "plt.show()"
   ]
  },
  {
   "cell_type": "code",
   "execution_count": null,
   "metadata": {},
   "outputs": [],
   "source": []
  }
 ],
 "metadata": {
  "kernelspec": {
   "display_name": "Python 3",
   "language": "python",
   "name": "python3"
  },
  "language_info": {
   "codemirror_mode": {
    "name": "ipython",
    "version": 3
   },
   "file_extension": ".py",
   "mimetype": "text/x-python",
   "name": "python",
   "nbconvert_exporter": "python",
   "pygments_lexer": "ipython3",
   "version": "3.6.4"
  },
  "toc": {
   "nav_menu": {},
   "number_sections": true,
   "sideBar": true,
   "skip_h1_title": false,
   "toc_cell": false,
   "toc_position": {},
   "toc_section_display": "block",
   "toc_window_display": false
  }
 },
 "nbformat": 4,
 "nbformat_minor": 2
}
