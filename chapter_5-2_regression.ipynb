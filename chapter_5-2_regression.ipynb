{
 "cells": [
  {
   "cell_type": "code",
   "execution_count": null,
   "metadata": {
    "ExecuteTime": {
     "end_time": "2018-04-08T01:21:11.843379Z",
     "start_time": "2018-04-08T01:21:11.452409Z"
    }
   },
   "outputs": [],
   "source": [
    "import numpy as np\n",
    "import matplotlib.pyplot as plt\n",
    "\n",
    "%matplotlib inline"
   ]
  },
  {
   "cell_type": "markdown",
   "metadata": {},
   "source": [
    "# 学習データの確認"
   ]
  },
  {
   "cell_type": "code",
   "execution_count": null,
   "metadata": {
    "ExecuteTime": {
     "end_time": "2018-04-08T01:24:07.265769Z",
     "start_time": "2018-04-08T01:24:07.234929Z"
    }
   },
   "outputs": [],
   "source": [
    "# 学習データを読み込む\n",
    "# x: 広告費用\n",
    "# y: クリック数\n",
    "train = np.loadtxt('click.csv', delimiter=',', skiprows=1)\n",
    "train_x = train[:,0]\n",
    "train_y = train[:,1]"
   ]
  },
  {
   "cell_type": "code",
   "execution_count": null,
   "metadata": {
    "ExecuteTime": {
     "end_time": "2018-04-08T21:25:22.927730Z",
     "start_time": "2018-04-08T21:25:22.803129Z"
    }
   },
   "outputs": [],
   "source": [
    "# プロット\n",
    "plt.plot(train_x, train_y, 'o')\n",
    "plt.show()"
   ]
  },
  {
   "cell_type": "markdown",
   "metadata": {},
   "source": [
    "# 数式表現のお勉強"
   ]
  },
  {
   "cell_type": "markdown",
   "metadata": {},
   "source": [
    "$$\n",
    "\\begin{align}\n",
    "\\sum_{k=1}^{\\infty} \\frac{1}{k^2} = \\frac{\\pi^2}{6}\n",
    "\\end{align}\n",
    "$$"
   ]
  },
  {
   "cell_type": "raw",
   "metadata": {},
   "source": [
    "$$\n",
    "\\begin{align}\n",
    "\\sum_{k=1}^{\\infty} \\frac{1}{k^2} = \\frac{\\pi^2}{6}\n",
    "\\end{align}\n",
    "$$"
   ]
  },
  {
   "cell_type": "markdown",
   "metadata": {},
   "source": [
    "$$\n",
    "\\newcommand{\\rot}[1]{\\nabla\\times #1}\n",
    "\\newcommand{\\pdfrac}[2]{\\frac{\\partial #1}{\\partial #2}}\n",
    "\\begin{align}\n",
    "  \\mathbf{D} &= 0 \\\\\\\n",
    "  \\mathbf{B} &= 0 \\\\\\\n",
    "  \\rot{\\mathbf{E}} &= - \\pdfrac{\\mathbf{B}}{t} \\\\\\\n",
    "  \\rot{\\mathbf{H}} &= \\pdfrac{\\mathbf{D}}{t}\n",
    "\\end{align}\n",
    "$$"
   ]
  },
  {
   "cell_type": "raw",
   "metadata": {},
   "source": [
    "$$\n",
    "\\newcommand{\\rot}[1]{\\nabla\\times #1}\n",
    "\\newcommand{\\pdfrac}[2]{\\frac{\\partial #1}{\\partial #2}}\n",
    "\\begin{align}\n",
    "  \\mathbf{D} &= 0 \\\\\\\n",
    "  \\mathbf{B} &= 0 \\\\\\\n",
    "  \\rot{\\mathbf{E}} &= - \\pdfrac{\\mathbf{B}}{t} \\\\\\\n",
    "  \\rot{\\mathbf{H}} &= \\pdfrac{\\mathbf{D}}{t}\n",
    "\\end{align}\n",
    "$$"
   ]
  },
  {
   "cell_type": "markdown",
   "metadata": {},
   "source": [
    "# "
   ]
  },
  {
   "cell_type": "markdown",
   "metadata": {},
   "source": [
    "__標準化__\n",
    "$$\n",
    "\\begin{align}\n",
    "{z^{(i)}} = \\frac{x^{(i)}-u}{\\sigma}\n",
    "\\end{align}\n",
    "$$"
   ]
  },
  {
   "cell_type": "code",
   "execution_count": null,
   "metadata": {
    "ExecuteTime": {
     "end_time": "2018-04-08T01:45:01.111378Z",
     "start_time": "2018-04-08T01:45:01.095886Z"
    }
   },
   "outputs": [],
   "source": [
    "# 標準化(z-score正規化)\n",
    "# 平均を0、分散を1に変換\n",
    "# 標準偏差に対してどのくらいの値か\n",
    "# パラメーターの収束が早くなる\n",
    "mu = train_x.mean()\n",
    "sigma = train_x.std()\n",
    "def standardize(x):\n",
    "    return (x - mu) / sigma\n",
    "\n",
    "train_z = standardize(train_x)"
   ]
  },
  {
   "cell_type": "code",
   "execution_count": null,
   "metadata": {
    "ExecuteTime": {
     "end_time": "2018-04-08T01:54:29.981040Z",
     "start_time": "2018-04-08T01:54:29.871629Z"
    }
   },
   "outputs": [],
   "source": [
    "# 標準化後プロット\n",
    "plt.plot(train_z, train_y, 'o')\n",
    "plt.show()"
   ]
  },
  {
   "cell_type": "markdown",
   "metadata": {},
   "source": [
    "# 1次関数として実装"
   ]
  },
  {
   "cell_type": "code",
   "execution_count": null,
   "metadata": {
    "ExecuteTime": {
     "end_time": "2018-04-08T21:25:30.225519Z",
     "start_time": "2018-04-08T21:25:30.209892Z"
    }
   },
   "outputs": [],
   "source": [
    "# 予測関数\n",
    "# 切片と傾き\n",
    "def f(x):\n",
    "    return theta0 + theta1 * x"
   ]
  },
  {
   "cell_type": "code",
   "execution_count": null,
   "metadata": {
    "ExecuteTime": {
     "end_time": "2018-04-08T21:25:30.928744Z",
     "start_time": "2018-04-08T21:25:30.913539Z"
    }
   },
   "outputs": [],
   "source": [
    "# 目的関数\n",
    "# 学習データと予測値の誤差の二乗の総和\n",
    "# 0.5 は学習に用いる式を導出する際に微分計算で出てくる 2 を相殺するために付けられた定数なので、\n",
    "# なくても最終的な結果は変わらないが、この定数の大小は収束までの計算回数に若干影響する\n",
    "def E(x, y):\n",
    "    return 0.5 * np.sum((y - f(x)) ** 2)"
   ]
  },
  {
   "cell_type": "code",
   "execution_count": null,
   "metadata": {
    "ExecuteTime": {
     "end_time": "2018-04-08T21:39:30.548233Z",
     "start_time": "2018-04-08T21:39:30.486142Z"
    }
   },
   "outputs": [],
   "source": [
    "# パラメーターを初期化\n",
    "# 0〜1の一様乱数\n",
    "theta0 = np.random.rand()\n",
    "theta1 = np.random.rand()\n",
    "\n",
    "# 学習率\n",
    "ETA = 1e-3\n",
    "\n",
    "# 誤差の差分\n",
    "diff = 1\n",
    "\n",
    "# 更新回数\n",
    "count = 0\n",
    "\n",
    "# 誤差の初期値\n",
    "error = E(train_z, train_y)\n",
    "\n",
    "# 誤差の差分が計算打ち切り値0.01以下になるまでパラメータ更新を繰り返す\n",
    "while diff > 1e-2:\n",
    "    # 各パラメーターの更新は同時に行わなければいけないので、更新結果を一時変数に保存\n",
    "    # 下の順番で計算する場合だと、theta1の計算時には直前に計算したtheta0ではなく、1つ前のtheta0を使う\n",
    "    # 1つ前のtheta0 - 学習率 * 目的関数をtheta0で偏微分した結果(合成関数を使って求める)の総和\n",
    "    tmp0 = theta0 - ETA * np.sum((f(train_z) - train_y))\n",
    "    # 1つ前のtheta1 - 学習率 * 目的関数をtheta1で偏微分した結果(合成関数を使って求める)の総和\n",
    "    tmp1 = theta1 - ETA * np.sum((f(train_z) - train_y) * train_z)\n",
    "    # パラメータを更新\n",
    "    theta0 = tmp0\n",
    "    theta1 = tmp1\n",
    "    # 前回の誤差との差分を計算\n",
    "    current_error = E(train_z, train_y)\n",
    "    diff = error - current_error\n",
    "    error = current_error\n",
    "    # ログの出力\n",
    "    count += 1\n",
    "    log = '{}回目: theta0 = {:.3f}, theta1 = {:.3f}, 差分 = {:.4f}'\n",
    "    print(log.format(count, theta0, theta1, diff))"
   ]
  },
  {
   "cell_type": "code",
   "execution_count": null,
   "metadata": {
    "ExecuteTime": {
     "end_time": "2018-04-08T09:06:10.063355Z",
     "start_time": "2018-04-08T09:06:09.953403Z"
    },
    "scrolled": false
   },
   "outputs": [],
   "source": [
    "# 結果をプロット\n",
    "x = np.linspace(-3, 3, 100)\n",
    "\n",
    "plt.plot(train_z, train_y, 'o')\n",
    "plt.plot(x, f(x))\n",
    "plt.show()"
   ]
  },
  {
   "cell_type": "markdown",
   "metadata": {},
   "source": [
    "# 多項式回帰の実装"
   ]
  },
  {
   "cell_type": "code",
   "execution_count": null,
   "metadata": {},
   "outputs": [],
   "source": [
    "# パラメータと変数をそれぞれベクトルとみなすことで計算式を簡素化できる"
   ]
  },
  {
   "cell_type": "code",
   "execution_count": null,
   "metadata": {
    "ExecuteTime": {
     "end_time": "2018-04-08T07:37:17.477607Z",
     "start_time": "2018-04-08T07:37:17.462429Z"
    }
   },
   "outputs": [],
   "source": [
    "# 学習データの行列を作る関数\n",
    "def to_matrix(x):\n",
    "    # theta0に対応するx0を1とした行列を転置\n",
    "    return np.vstack([np.ones(x.shape[0]), x, x ** 2]).T"
   ]
  },
  {
   "cell_type": "code",
   "execution_count": null,
   "metadata": {
    "ExecuteTime": {
     "end_time": "2018-04-08T07:37:17.915153Z",
     "start_time": "2018-04-08T07:37:17.899979Z"
    }
   },
   "outputs": [],
   "source": [
    "# 学習データの行列を作る\n",
    "X = to_matrix(train_z)"
   ]
  },
  {
   "cell_type": "code",
   "execution_count": null,
   "metadata": {
    "ExecuteTime": {
     "end_time": "2018-04-08T08:02:52.920192Z",
     "start_time": "2018-04-08T08:02:52.904566Z"
    }
   },
   "outputs": [],
   "source": [
    "X"
   ]
  },
  {
   "cell_type": "code",
   "execution_count": null,
   "metadata": {
    "ExecuteTime": {
     "end_time": "2018-04-08T06:09:35.454038Z",
     "start_time": "2018-04-08T06:09:35.438864Z"
    }
   },
   "outputs": [],
   "source": [
    "# 予測関数\n",
    "def f(x):\n",
    "    # 学習データの行列xとパラメータのベクトルthetaの積を求める\n",
    "    return np.dot(x, theta)"
   ]
  },
  {
   "cell_type": "code",
   "execution_count": null,
   "metadata": {
    "ExecuteTime": {
     "end_time": "2018-04-08T08:31:48.678521Z",
     "start_time": "2018-04-08T08:31:48.647269Z"
    }
   },
   "outputs": [],
   "source": [
    "np.dot(f(X) - train_y, X)"
   ]
  },
  {
   "cell_type": "code",
   "execution_count": null,
   "metadata": {
    "ExecuteTime": {
     "end_time": "2018-04-08T08:27:33.316587Z",
     "start_time": "2018-04-08T08:27:33.300959Z"
    }
   },
   "outputs": [],
   "source": [
    "f(X) - train_y"
   ]
  },
  {
   "cell_type": "code",
   "execution_count": null,
   "metadata": {
    "ExecuteTime": {
     "end_time": "2018-04-08T06:36:29.365346Z",
     "start_time": "2018-04-08T06:36:29.177839Z"
    },
    "scrolled": true
   },
   "outputs": [],
   "source": [
    "# パラメータを初期化\n",
    "theta = np.random.rand(3)\n",
    "\n",
    "# 誤差の差分\n",
    "diff = 1\n",
    "\n",
    "# 更新回数\n",
    "count = 0\n",
    "\n",
    "# 学習を繰り返す\n",
    "error = E(X, train_y)\n",
    "while diff > 1e-2:\n",
    "    # パラメータを更新\n",
    "    # パラメータのベクトル - 学習率 * 誤差ベクトルと学習データ行列の積\n",
    "    theta = theta - ETA * np.dot(f(X) - train_y, X)\n",
    "    # 前回の誤差との差分を計算\n",
    "    current_error = E(X, train_y)\n",
    "    diff = error - current_error\n",
    "    error = current_error\n",
    "    # ログの出力\n",
    "    count += 1\n",
    "    log = '{}回目: theta = {}, 差分 = {:.4f}'\n",
    "    print(log.format(count, theta, diff))"
   ]
  },
  {
   "cell_type": "code",
   "execution_count": null,
   "metadata": {
    "ExecuteTime": {
     "end_time": "2018-04-08T06:36:49.713972Z",
     "start_time": "2018-04-08T06:36:49.604600Z"
    }
   },
   "outputs": [],
   "source": [
    "# 結果をプロット\n",
    "x = np.linspace(-3, 3, 100)\n",
    "\n",
    "plt.plot(train_z, train_y, 'o')\n",
    "plt.plot(x, f(to_matrix(x)))\n",
    "plt.show()"
   ]
  },
  {
   "cell_type": "code",
   "execution_count": null,
   "metadata": {
    "ExecuteTime": {
     "end_time": "2018-04-08T06:27:59.666719Z",
     "start_time": "2018-04-08T06:27:59.635732Z"
    }
   },
   "outputs": [],
   "source": [
    "# 平均二乗誤差\n",
    "def MSE(x, y):\n",
    "    return (1 / x.shape[0]) * np.sum((y - f(x)) ** 2)"
   ]
  },
  {
   "cell_type": "code",
   "execution_count": null,
   "metadata": {
    "ExecuteTime": {
     "end_time": "2018-04-08T08:40:17.642115Z",
     "start_time": "2018-04-08T08:40:17.470238Z"
    }
   },
   "outputs": [],
   "source": [
    "# 目的関数(計算打ち切りの条件)を平均二乗誤差で計算\n",
    "\n",
    "# パラメータを初期化\n",
    "theta = np.random.rand(3)\n",
    "\n",
    "# 平均二乗誤差の履歴\n",
    "errors = []\n",
    "\n",
    "# 誤差の差分\n",
    "diff = 1\n",
    "\n",
    "# 更新回数\n",
    "count = 0\n",
    "\n",
    "# 学習を繰り返す\n",
    "errors.append(MSE(X, train_y))\n",
    "while diff > 1e-2:\n",
    "    # パラメータを更新\n",
    "    theta = theta - ETA * np.dot(f(X) - train_y, X)\n",
    "    # 前回の誤差との差分を計算\n",
    "    errors.append(MSE(X, train_y))\n",
    "    diff = errors[-2] - errors[-1]\n",
    "    # ログの出力\n",
    "    count += 1\n",
    "    log = '{}回目: theta = {}, 差分 = {:.4f}'\n",
    "    print(log.format(count, theta, diff))"
   ]
  },
  {
   "cell_type": "code",
   "execution_count": null,
   "metadata": {
    "ExecuteTime": {
     "end_time": "2018-04-08T06:38:17.797414Z",
     "start_time": "2018-04-08T06:38:17.688444Z"
    }
   },
   "outputs": [],
   "source": [
    "# 結果をプロット\n",
    "x = np.linspace(-3, 3, 100)\n",
    "\n",
    "plt.plot(train_z, train_y, 'o')\n",
    "plt.plot(x, f(to_matrix(x)))\n",
    "plt.show()"
   ]
  },
  {
   "cell_type": "code",
   "execution_count": null,
   "metadata": {
    "ExecuteTime": {
     "end_time": "2018-04-08T06:39:33.699816Z",
     "start_time": "2018-04-08T06:39:33.590838Z"
    }
   },
   "outputs": [],
   "source": [
    "# 誤差をプロット\n",
    "x = np.arange(len(errors))\n",
    "\n",
    "plt.plot(x, errors)\n",
    "plt.show()"
   ]
  },
  {
   "cell_type": "markdown",
   "metadata": {},
   "source": [
    "# 確率的勾配降下法の実装"
   ]
  },
  {
   "cell_type": "code",
   "execution_count": null,
   "metadata": {
    "ExecuteTime": {
     "end_time": "2018-04-08T06:49:59.560660Z",
     "start_time": "2018-04-08T06:49:59.326221Z"
    }
   },
   "outputs": [],
   "source": [
    "# パラメータを初期化\n",
    "theta = np.random.rand(3)\n",
    "\n",
    "# 平均二乗誤差の履歴\n",
    "errors = []\n",
    "\n",
    "# 誤差の差分\n",
    "diff = 1\n",
    "\n",
    "# 更新回数\n",
    "count = 0\n",
    "\n",
    "# 学習を繰り返す\n",
    "errors.append(MSE(X, train_y))\n",
    "while diff > 1e-2:\n",
    "    # 学習データを並べ替えるためにランダムな順列を用意する\n",
    "    p = np.random.permutation(X.shape[0])\n",
    "    #　学習データをランダムに取り出して確率的勾配降下法でパラメータ更新\n",
    "    for x, y in zip(X[p,:], train_y[p]):\n",
    "        theta = theta - ETA * (f(x) - y) * x\n",
    "    # 前回の誤差との差分を計算\n",
    "    errors.append(MSE(X, train_y))\n",
    "    diff = errors[-2] - errors[-1]\n",
    "    # ログの出力\n",
    "    count += 1\n",
    "    log = '{}回目: theta = {}, 差分 = {:.4f}'\n",
    "    print(log.format(count, theta, diff))"
   ]
  },
  {
   "cell_type": "code",
   "execution_count": null,
   "metadata": {
    "ExecuteTime": {
     "end_time": "2018-04-08T06:50:49.881920Z",
     "start_time": "2018-04-08T06:50:49.756867Z"
    }
   },
   "outputs": [],
   "source": [
    "# 結果をプロット\n",
    "x = np.linspace(-3, 3, 100)\n",
    "\n",
    "plt.plot(train_z, train_y, 'o')\n",
    "plt.plot(x, f(to_matrix(x)))\n",
    "plt.show()"
   ]
  },
  {
   "cell_type": "code",
   "execution_count": null,
   "metadata": {
    "ExecuteTime": {
     "end_time": "2018-04-08T06:51:07.039972Z",
     "start_time": "2018-04-08T06:51:06.914923Z"
    }
   },
   "outputs": [],
   "source": [
    "# 誤差をプロット\n",
    "x = np.arange(len(errors))\n",
    "\n",
    "plt.plot(x, errors)\n",
    "plt.show()"
   ]
  },
  {
   "cell_type": "code",
   "execution_count": null,
   "metadata": {},
   "outputs": [],
   "source": []
  }
 ],
 "metadata": {
  "kernelspec": {
   "display_name": "Python 3",
   "language": "python",
   "name": "python3"
  },
  "language_info": {
   "codemirror_mode": {
    "name": "ipython",
    "version": 3
   },
   "file_extension": ".py",
   "mimetype": "text/x-python",
   "name": "python",
   "nbconvert_exporter": "python",
   "pygments_lexer": "ipython3",
   "version": "3.6.4"
  },
  "toc": {
   "nav_menu": {},
   "number_sections": true,
   "sideBar": true,
   "skip_h1_title": false,
   "toc_cell": false,
   "toc_position": {},
   "toc_section_display": "block",
   "toc_window_display": false
  }
 },
 "nbformat": 4,
 "nbformat_minor": 2
}
